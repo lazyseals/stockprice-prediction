{
 "cells": [
  {
   "cell_type": "code",
   "execution_count": 1,
   "metadata": {},
   "outputs": [
    {
     "name": "stderr",
     "output_type": "stream",
     "text": [
      "Using TensorFlow backend.\n"
     ]
    }
   ],
   "source": [
    "from requests import get\n",
    "import json\n",
    "import re \n",
    "from textblob import TextBlob\n",
    "import datetime\n",
    "import numpy as np\n",
    "import pandas as pd\n",
    "import time\n",
    "from tqdm import tqdm\n",
    "from os import listdir\n",
    "from os.path import isfile, join\n",
    "from tqdm import tqdm\n",
    "import sys\n",
    "from keras.models import Sequential\n",
    "from keras.layers import LSTM, Dense\n",
    "from sklearn.preprocessing import MinMaxScaler"
   ]
  },
  {
   "cell_type": "code",
   "execution_count": 10,
   "metadata": {},
   "outputs": [
    {
     "name": "stdout",
     "output_type": "stream",
     "text": [
      "Current File: AAPL.csv\n",
      "Df length: 9767\n",
      "Counter: 2670\n",
      "Relative Sentiment: 0.2733695095730521\n",
      "Current File: AAPL_sentiments.csv\n",
      "Df length: 9767\n",
      "Counter: 2670\n",
      "Relative Sentiment: 0.2733695095730521\n",
      "Current File: AXP.csv\n",
      "Df length: 11926\n",
      "Counter: 563\n",
      "Relative Sentiment: 0.04720778131812846\n",
      "Current File: BA.csv\n",
      "Df length: 14525\n",
      "Counter: 1109\n",
      "Relative Sentiment: 0.07635111876075731\n",
      "Current File: CAT.csv\n",
      "Df length: 14525\n",
      "Counter: 169\n",
      "Relative Sentiment: 0.011635111876075731\n",
      "Current File: CSCO.csv\n",
      "Df length: 7451\n",
      "Counter: 2613\n",
      "Relative Sentiment: 0.3506911823916253\n",
      "Current File: CVX.csv\n",
      "Df length: 14525\n",
      "Counter: 301\n",
      "Relative Sentiment: 0.02072289156626506\n",
      "Current File: DIS.csv\n",
      "Df length: 14525\n",
      "Counter: 1590\n",
      "Relative Sentiment: 0.10946643717728055\n",
      "Current File: DOW.csv\n",
      "Df length: 124\n",
      "Counter: 1\n",
      "Relative Sentiment: 0.008064516129032258\n",
      "Current File: GE.csv\n",
      "Df length: 14519\n",
      "Counter: 1242\n",
      "Relative Sentiment: 0.08554308147944073\n",
      "Current File: GS.csv\n",
      "Df length: 5125\n",
      "Counter: 1155\n",
      "Relative Sentiment: 0.2253658536585366\n"
     ]
    }
   ],
   "source": [
    "# load all stock files\n",
    "files = [f for f in listdir(\"../../data/sentiments/dataset_1\") if isfile(\n",
    "    join(\"../../data/sentiments/dataset_1\", f))]\n",
    "\n",
    "sentiment_relatives = []\n",
    "\n",
    "# calculate sentiments occurance\n",
    "for file in files:\n",
    "    counter = 0\n",
    "    # source path to train data\n",
    "    source_file_path = \"../../data/sentiments/dataset_1/\" + file\n",
    "    \n",
    "    # read in data as df\n",
    "    df = pd.read_csv(source_file_path)\n",
    "    \n",
    "    # iterate df for sentiments\n",
    "    for index, row in df.iterrows():\n",
    "        sentiment = df.at[index, 'Sentiment']\n",
    "        if sentiment != 0.0:\n",
    "            counter += 1\n",
    "    \n",
    "    # calculate sentiment relative\n",
    "    sentiment_relative = counter / len(df)\n",
    "    sentiment_relatives.append(sentiment_relative)\n",
    "\n"
   ]
  },
  {
   "cell_type": "code",
   "execution_count": null,
   "metadata": {},
   "outputs": [],
   "source": []
  }
 ],
 "metadata": {
  "kernelspec": {
   "display_name": "Python 3",
   "language": "python",
   "name": "python3"
  },
  "language_info": {
   "codemirror_mode": {
    "name": "ipython",
    "version": 3
   },
   "file_extension": ".py",
   "mimetype": "text/x-python",
   "name": "python",
   "nbconvert_exporter": "python",
   "pygments_lexer": "ipython3",
   "version": "3.6.9"
  }
 },
 "nbformat": 4,
 "nbformat_minor": 2
}
