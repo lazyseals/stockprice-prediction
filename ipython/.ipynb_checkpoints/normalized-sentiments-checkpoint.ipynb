{
 "cells": [
  {
   "cell_type": "code",
   "execution_count": 82,
   "metadata": {},
   "outputs": [],
   "source": [
    "import numpy as np\n",
    "import pandas as pd\n",
    "\n",
    "df = pd.read_csv(\"../data/sentiments/AAPL_sentiments.csv\")\n",
    "\n",
    "# add new column Open_before which contains the open values of the previous day\n",
    "df[\"Open_before\"] = df[\"Open\"].shift(1)\n",
    "\n",
    "# calculate the procentual change of the open value of the current day to the \n",
    "# open value of the day before\n",
    "df[\"Open_changes\"] = (df[\"Open\"] / df[\"Open_before\"]) - 1\n",
    "\n",
    "# throw out the first line which has NaN as value because of the previous shift of values \n",
    "df = df.dropna()\n",
    "\n",
    "# reset index to start by 0\n",
    "df.index -= 1\n",
    "\n",
    "changes = df[\"Open_changes\"]\n",
    "sentiments = df[\"Sentiment\"]\n",
    "\n",
    "X = []\n",
    "Y = []\n",
    "\n",
    "# resort data frame by start backwards\n",
    "df = df[::-1]\n",
    "\n",
    "# X data with additional value for the sentiment\n",
    "for i in range(0, len(changes)- 20):\n",
    "    try:\n",
    "        Y.append(changes[i])\n",
    "        to_add = changes[i+1:i+21].tolist()\n",
    "        to_add.append(sentiments[i])\n",
    "        X.append(to_add)\n",
    "    except:\n",
    "        pass\n",
    "    \n",
    "# border to split in test and training data\n",
    "split_border = int(len(X) * 0.8)\n",
    "\n",
    "# build test and training data\n",
    "X_train = np.array(X[:split_border]).reshape(-1, 21, 1)\n",
    "X_test = np.array(X[split_border:]).reshape(-1, 21, 1)\n",
    "Y_train = np.array(Y[:split_border])\n",
    "Y_test = np.array(Y[split_border:])"
   ]
  },
  {
   "cell_type": "code",
   "execution_count": 83,
   "metadata": {},
   "outputs": [
    {
     "name": "stderr",
     "output_type": "stream",
     "text": [
      "Using TensorFlow backend.\n",
      "WARNING: Logging before flag parsing goes to stderr.\n",
      "W0914 17:07:49.484337  7160 deprecation_wrapper.py:119] From C:\\Users\\Daniel\\.conda\\envs\\python36\\lib\\site-packages\\keras\\backend\\tensorflow_backend.py:74: The name tf.get_default_graph is deprecated. Please use tf.compat.v1.get_default_graph instead.\n",
      "\n",
      "W0914 17:07:49.524360  7160 deprecation_wrapper.py:119] From C:\\Users\\Daniel\\.conda\\envs\\python36\\lib\\site-packages\\keras\\backend\\tensorflow_backend.py:517: The name tf.placeholder is deprecated. Please use tf.compat.v1.placeholder instead.\n",
      "\n",
      "W0914 17:07:49.534077  7160 deprecation_wrapper.py:119] From C:\\Users\\Daniel\\.conda\\envs\\python36\\lib\\site-packages\\keras\\backend\\tensorflow_backend.py:4138: The name tf.random_uniform is deprecated. Please use tf.random.uniform instead.\n",
      "\n",
      "W0914 17:07:50.915201  7160 deprecation_wrapper.py:119] From C:\\Users\\Daniel\\.conda\\envs\\python36\\lib\\site-packages\\keras\\optimizers.py:790: The name tf.train.Optimizer is deprecated. Please use tf.compat.v1.train.Optimizer instead.\n",
      "\n",
      "W0914 17:07:51.712203  7160 deprecation.py:323] From C:\\Users\\Daniel\\.conda\\envs\\python36\\lib\\site-packages\\tensorflow\\python\\ops\\math_grad.py:1250: add_dispatch_support.<locals>.wrapper (from tensorflow.python.ops.array_ops) is deprecated and will be removed in a future version.\n",
      "Instructions for updating:\n",
      "Use tf.where in 2.0, which has the same broadcast rule as np.where\n",
      "W0914 17:07:55.091234  7160 deprecation_wrapper.py:119] From C:\\Users\\Daniel\\.conda\\envs\\python36\\lib\\site-packages\\keras\\backend\\tensorflow_backend.py:986: The name tf.assign_add is deprecated. Please use tf.compat.v1.assign_add instead.\n",
      "\n",
      "W0914 17:07:55.108765  7160 deprecation_wrapper.py:119] From C:\\Users\\Daniel\\.conda\\envs\\python36\\lib\\site-packages\\keras\\backend\\tensorflow_backend.py:973: The name tf.assign is deprecated. Please use tf.compat.v1.assign instead.\n",
      "\n"
     ]
    },
    {
     "name": "stdout",
     "output_type": "stream",
     "text": [
      "Epoch 1/10\n",
      "7793/7793 [==============================] - 24s 3ms/step - loss: 0.0049\n",
      "Epoch 2/10\n",
      "7793/7793 [==============================] - 19s 2ms/step - loss: 9.7618e-04\n",
      "Epoch 3/10\n",
      "7793/7793 [==============================] - 20s 3ms/step - loss: 9.7612e-04\n",
      "Epoch 4/10\n",
      "7793/7793 [==============================] - 20s 3ms/step - loss: 9.7623e-04\n",
      "Epoch 5/10\n",
      "7793/7793 [==============================] - 20s 3ms/step - loss: 9.7594e-04\n",
      "Epoch 6/10\n",
      "7793/7793 [==============================] - 20s 3ms/step - loss: 9.7613e-04\n",
      "Epoch 7/10\n",
      "7793/7793 [==============================] - 21s 3ms/step - loss: 9.7606e-04\n",
      "Epoch 8/10\n",
      "7793/7793 [==============================] - 20s 3ms/step - loss: 9.7601e-04\n",
      "Epoch 9/10\n",
      "7793/7793 [==============================] - 21s 3ms/step - loss: 9.7591e-04\n",
      "Epoch 10/10\n",
      "7793/7793 [==============================] - 21s 3ms/step - loss: 9.7645e-04\n"
     ]
    }
   ],
   "source": [
    "from keras.models import Sequential\n",
    "from keras.layers import LSTM, Dense\n",
    "\n",
    "model = Sequential()\n",
    "model.add(LSTM(128, input_shape=(21, 1), return_sequences=True))\n",
    "model.add(LSTM(64, input_shape=(21,1)))\n",
    "\n",
    "model.add(Dense(64, activation=\"relu\"))\n",
    "model.add(Dense(1, activation=\"sigmoid\"))\n",
    "\n",
    "model.compile(optimizer=\"rmsprop\", loss=\"mse\")\n",
    "model.fit(X_train, Y_train, batch_size=32, epochs=10)\n",
    "\n",
    "model.save('../models/multiple-layer-with-sentiments.h5')"
   ]
  },
  {
   "cell_type": "code",
   "execution_count": 86,
   "metadata": {},
   "outputs": [],
   "source": [
    "df = df[::-1]\n",
    "\n",
    "# Faktor um den das eingesetzte Vermögen steigt aktueller Stand / damaliger Stand \n",
    "# Berechne Rendite für Testdaten\n",
    "# An der Stelle split_border ist df[\"Open_changes\"] gleich Y_test[0]\n",
    "rendite = df[\"Open\"][9765] / df[\"Open\"][split_border]\n",
    "\n",
    "# Marktrendite bei 100 Euro Einsatz\n",
    "markt_return = 100 * rendite\n",
    "\n",
    "# Rendite bei Trading durch das Modell\n",
    "buy_or_sell = []\n",
    "\n",
    "# predictions of Neuronal Net\n",
    "predictions = model.predict(X_test)\n",
    "\n",
    "predictions = np.array(predictions).reshape(-1)\n",
    "\n",
    "# True when buy stock, false when sell stock\n",
    "for change in predictions: \n",
    "    if change > 0:\n",
    "        buy_or_sell.append(True)\n",
    "    else:\n",
    "        buy_or_sell.append(False)"
   ]
  },
  {
   "cell_type": "code",
   "execution_count": 91,
   "metadata": {},
   "outputs": [
    {
     "name": "stdout",
     "output_type": "stream",
     "text": [
      "483.28738703003927\n",
      "374.50323078797567\n"
     ]
    }
   ],
   "source": [
    "# Berechne Rendite bei Neuronalem Netz\n",
    "# 1. Iteriere über buy_or_sell\n",
    "# 2. Wenn prediction True dann kaufe Aktie zu diesem Zeitpunkt \n",
    "# 3. Wenn prediction False dann verkaufe alle Aktien\n",
    "\n",
    "# starte mit kapital von 100 Euro\n",
    "kapital = 100\n",
    "# Anzahl Aktien im Depot\n",
    "depot = 0\n",
    "# Kurs in Euro pro Aktie\n",
    "kurs = 0\n",
    "\n",
    "# Annahme: Investiere immer das komplette Kapital bzw verkaufe komplettes Depot\n",
    "for (prediction, i) in zip(buy_or_sell, range(split_border, 14518 - 20)):\n",
    "    if prediction == True and kapital > 0:\n",
    "        # kaufe Aktie zum Zeitpunkt i\n",
    "        kurs = df[\"Open\"][i]\n",
    "        # depot[Aktien] = Kapital[Euro] * (1 [Aktie] / Kurs [Euro pro Aktie])\n",
    "        depot += kapital * (1 / kurs)\n",
    "        kapital = 0\n",
    "    elif depot > 0:\n",
    "        # verkaufe Aktien im Depot zum Zeitpunkt i\n",
    "        kurs = df[\"Open\"][i]\n",
    "        kapital = depot * kurs \n",
    "        depot = 0\n",
    "\n",
    "if kapital == 0:\n",
    "    kapital = depot * kurs\n",
    "    \n",
    "print(kapital)\n",
    "print(markt_return)"
   ]
  },
  {
   "cell_type": "code",
   "execution_count": null,
   "metadata": {},
   "outputs": [],
   "source": []
  }
 ],
 "metadata": {
  "kernelspec": {
   "display_name": "Python 3",
   "language": "python",
   "name": "python3"
  },
  "language_info": {
   "codemirror_mode": {
    "name": "ipython",
    "version": 3
   },
   "file_extension": ".py",
   "mimetype": "text/x-python",
   "name": "python",
   "nbconvert_exporter": "python",
   "pygments_lexer": "ipython3",
   "version": "3.6.9"
  }
 },
 "nbformat": 4,
 "nbformat_minor": 2
}
