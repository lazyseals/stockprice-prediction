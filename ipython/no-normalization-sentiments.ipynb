{
 "cells": [
  {
   "cell_type": "code",
   "execution_count": 6,
   "metadata": {},
   "outputs": [],
   "source": [
    "import numpy as np\n",
    "import pandas as pd\n",
    "\n",
    "# load the sample data to evaluate the model\n",
    "df = pd.read_csv(\"../data/dow_jones_stocks/sentiments/dataset_1/many_sentiments/AAPL.csv\")\n",
    "\n",
    "# add new column Open_before which contains the open values of the previous day\n",
    "df[\"Open_before\"] = df[\"Open\"].shift(1)\n",
    "\n",
    "# calculate the procentual change of the open value of the current day to the \n",
    "# open value of the day before\n",
    "df[\"Open_changes\"] = (df[\"Open\"] / df[\"Open_before\"]) - 1\n",
    "\n",
    "# throw out the first line which has NaN as value because of the previous shift of values \n",
    "df = df.dropna()\n",
    "df = df.reset_index(drop=True)\n",
    "df = df.drop(columns=['Unnamed: 0'])\n",
    "\n",
    "# resort data frame by start backwards\n",
    "df = df[::-1]\n",
    "\n",
    "changes = df[\"Open_changes\"]\n",
    "sentiments = df[\"Sentiment\"]\n",
    "\n",
    "X = []\n",
    "Y = []\n",
    "\n",
    "# start with 1 because we throw out the first line before due to NaN\n",
    "# predict price with previous 20 entries\n",
    "for i in range(0, len(changes)- 20):\n",
    "    Y.append(changes[i])\n",
    "    to_add = changes[i+1:i+21].tolist()\n",
    "    to_add.append(sentiments[i])\n",
    "    X.append(to_add)\n",
    "\n",
    "# border to split in test and training data\n",
    "split_border = int(len(X) * 0.8)\n",
    "\n",
    "# build test and training data\n",
    "X_train = np.array(X[:split_border]).reshape(-1, 21, 1)\n",
    "X_test = np.array(X[split_border:]).reshape(-1, 21, 1)\n",
    "Y_train = np.array(Y[:split_border])\n",
    "Y_test = np.array(Y[split_border:])"
   ]
  },
  {
   "cell_type": "code",
   "execution_count": 7,
   "metadata": {},
   "outputs": [
    {
     "name": "stderr",
     "output_type": "stream",
     "text": [
      "Using TensorFlow backend.\n",
      "WARNING: Logging before flag parsing goes to stderr.\n",
      "W1110 08:21:03.792096 11688 deprecation_wrapper.py:119] From C:\\Users\\Daniel\\.conda\\envs\\python36\\lib\\site-packages\\keras\\backend\\tensorflow_backend.py:74: The name tf.get_default_graph is deprecated. Please use tf.compat.v1.get_default_graph instead.\n",
      "\n",
      "W1110 08:21:03.815038 11688 deprecation_wrapper.py:119] From C:\\Users\\Daniel\\.conda\\envs\\python36\\lib\\site-packages\\keras\\backend\\tensorflow_backend.py:517: The name tf.placeholder is deprecated. Please use tf.compat.v1.placeholder instead.\n",
      "\n",
      "W1110 08:21:03.820026 11688 deprecation_wrapper.py:119] From C:\\Users\\Daniel\\.conda\\envs\\python36\\lib\\site-packages\\keras\\backend\\tensorflow_backend.py:4138: The name tf.random_uniform is deprecated. Please use tf.random.uniform instead.\n",
      "\n",
      "W1110 08:21:04.417427 11688 deprecation_wrapper.py:119] From C:\\Users\\Daniel\\.conda\\envs\\python36\\lib\\site-packages\\keras\\optimizers.py:790: The name tf.train.Optimizer is deprecated. Please use tf.compat.v1.train.Optimizer instead.\n",
      "\n",
      "W1110 08:21:04.781757 11688 deprecation.py:323] From C:\\Users\\Daniel\\.conda\\envs\\python36\\lib\\site-packages\\tensorflow\\python\\ops\\math_grad.py:1250: add_dispatch_support.<locals>.wrapper (from tensorflow.python.ops.array_ops) is deprecated and will be removed in a future version.\n",
      "Instructions for updating:\n",
      "Use tf.where in 2.0, which has the same broadcast rule as np.where\n",
      "W1110 08:21:06.261486 11688 deprecation_wrapper.py:119] From C:\\Users\\Daniel\\.conda\\envs\\python36\\lib\\site-packages\\keras\\backend\\tensorflow_backend.py:986: The name tf.assign_add is deprecated. Please use tf.compat.v1.assign_add instead.\n",
      "\n",
      "W1110 08:21:06.282440 11688 deprecation_wrapper.py:119] From C:\\Users\\Daniel\\.conda\\envs\\python36\\lib\\site-packages\\keras\\backend\\tensorflow_backend.py:973: The name tf.assign is deprecated. Please use tf.compat.v1.assign instead.\n",
      "\n"
     ]
    },
    {
     "name": "stdout",
     "output_type": "stream",
     "text": [
      "Epoch 1/10\n",
      "7795/7795 [==============================] - 12s 2ms/step - loss: 0.0049\n",
      "Epoch 2/10\n",
      "7795/7795 [==============================] - 12s 2ms/step - loss: 9.7594e-04\n",
      "Epoch 3/10\n",
      "7795/7795 [==============================] - 18s 2ms/step - loss: 9.7598e-04\n",
      "Epoch 4/10\n",
      "7795/7795 [==============================] - 21s 3ms/step - loss: 9.7491e-04\n",
      "Epoch 5/10\n",
      "7795/7795 [==============================] - 22s 3ms/step - loss: 9.7604e-04\n",
      "Epoch 6/10\n",
      "7795/7795 [==============================] - 23s 3ms/step - loss: 9.7513e-04\n",
      "Epoch 7/10\n",
      "7795/7795 [==============================] - 22s 3ms/step - loss: 9.7523e-04\n",
      "Epoch 8/10\n",
      "7795/7795 [==============================] - 26s 3ms/step - loss: 9.7564e-04\n",
      "Epoch 9/10\n",
      "7795/7795 [==============================] - 23s 3ms/step - loss: 9.7553e-04\n",
      "Epoch 10/10\n",
      "7795/7795 [==============================] - 21s 3ms/step - loss: 9.7601e-04\n"
     ]
    }
   ],
   "source": [
    "from keras.models import Sequential\n",
    "from keras.layers import LSTM, Dense\n",
    "\n",
    "model = Sequential()\n",
    "model.add(LSTM(128, input_shape=(21, 1), return_sequences=True))\n",
    "model.add(LSTM(64, input_shape=(21,1)))\n",
    "\n",
    "model.add(Dense(64, activation=\"relu\"))\n",
    "model.add(Dense(1, activation=\"sigmoid\"))\n",
    "\n",
    "model.compile(optimizer=\"rmsprop\", loss=\"mse\")\n",
    "model.fit(X_train, Y_train, batch_size=32, epochs=10)\n",
    "\n",
    "model.save('../models/no_normalization_sentiments.h5')"
   ]
  },
  {
   "cell_type": "code",
   "execution_count": null,
   "metadata": {},
   "outputs": [],
   "source": []
  }
 ],
 "metadata": {
  "kernelspec": {
   "display_name": "Python 3",
   "language": "python",
   "name": "python3"
  },
  "language_info": {
   "codemirror_mode": {
    "name": "ipython",
    "version": 3
   },
   "file_extension": ".py",
   "mimetype": "text/x-python",
   "name": "python",
   "nbconvert_exporter": "python",
   "pygments_lexer": "ipython3",
   "version": "3.6.9"
  }
 },
 "nbformat": 4,
 "nbformat_minor": 2
}
