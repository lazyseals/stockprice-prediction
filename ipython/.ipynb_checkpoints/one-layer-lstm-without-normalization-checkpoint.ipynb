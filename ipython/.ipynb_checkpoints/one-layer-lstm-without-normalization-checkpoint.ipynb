{
 "cells": [
  {
   "cell_type": "code",
   "execution_count": 144,
   "metadata": {},
   "outputs": [],
   "source": [
    "import numpy as np\n",
    "import pandas as pd\n",
    "\n",
    "# load the sample data to evaluate the model\n",
    "df = pd.read_csv(\"../data/GE.csv\")\n",
    "\n",
    "# add new column Open_before which contains the open values of the previous day\n",
    "df[\"Open_before\"] = df[\"Open\"].shift(1)\n",
    "\n",
    "# calculate the procentual change of the open value of the current day to the \n",
    "# open value of the day before\n",
    "df[\"Open_changes\"] = (df[\"Open\"] / df[\"Open_before\"]) - 1\n",
    "\n",
    "# throw out the first line which has NaN as value because of the previous shift of values \n",
    "df = df.dropna()\n",
    "\n",
    "# reset index to start by 0\n",
    "df.index -= 1\n",
    "\n",
    "changes = df[\"Open_changes\"]\n",
    "\n",
    "X = []\n",
    "Y = []\n",
    "\n",
    "# start with 1 because we throw out the first line before due to NaN\n",
    "# predict price with previous 20 entries\n",
    "for i in range(0, len(changes)- 20):\n",
    "    Y.append(changes[i])\n",
    "    X.append(np.array(changes[i+1:i+21]))\n",
    "\n",
    "# border to split in test and training data\n",
    "split_border = int(len(X) * 0.8)\n",
    "\n",
    "# build test and training data\n",
    "X_train = np.array(X[:split_border]).reshape(-1, 20, 1)\n",
    "X_test = np.array(X[split_border:]).reshape(-1, 20, 1)\n",
    "Y_train = np.array(Y[:split_border])\n",
    "Y_test = np.array(Y[split_border:])"
   ]
  },
  {
   "cell_type": "code",
   "execution_count": 210,
   "metadata": {},
   "outputs": [
    {
     "name": "stdout",
     "output_type": "stream",
     "text": [
      "Epoch 1/10\n",
      "11598/11598 [==============================] - 11s 948us/step - loss: 2.4095e-04\n",
      "Epoch 2/10\n",
      "11598/11598 [==============================] - 6s 542us/step - loss: 2.3472e-04 0s - loss:\n",
      "Epoch 3/10\n",
      "11598/11598 [==============================] - 6s 529us/step - loss: 2.3271e-04\n",
      "Epoch 4/10\n",
      "11598/11598 [==============================] - 6s 516us/step - loss: 2.3211e-04\n",
      "Epoch 5/10\n",
      "11598/11598 [==============================] - 6s 531us/step - loss: 2.3186e-04\n",
      "Epoch 6/10\n",
      "11598/11598 [==============================] - 7s 585us/step - loss: 2.3164e-04\n",
      "Epoch 7/10\n",
      "11598/11598 [==============================] - 5s 446us/step - loss: 2.3153e-04\n",
      "Epoch 8/10\n",
      "11598/11598 [==============================] - 5s 429us/step - loss: 2.3148e-04\n",
      "Epoch 9/10\n",
      "11598/11598 [==============================] - 5s 444us/step - loss: 2.3144e-04\n",
      "Epoch 10/10\n",
      "11598/11598 [==============================] - 5s 434us/step - loss: 2.3133e-04\n"
     ]
    }
   ],
   "source": [
    "from keras.models import Sequential\n",
    "from keras.layers import LSTM, Dense\n",
    "\n",
    "model = Sequential()\n",
    "model.add(LSTM(1, input_shape=(20, 1)))\n",
    "\n",
    "model.compile(optimizer=\"rmsprop\", loss=\"mse\")\n",
    "model.fit(X_train, Y_train, batch_size=32, epochs=10)\n",
    "\n",
    "model.save('../models/one-layer-lstm-without-normalization.h5')"
   ]
  },
  {
   "cell_type": "code",
   "execution_count": null,
   "metadata": {},
   "outputs": [],
   "source": [
    "# Faktor um den das eingesetzte Vermögen steigt aktueller Stand / damaliger Stand \n",
    "# Berechne Rendite für Testdaten\n",
    "# An der Stelle split_border ist df[\"Open_changes\"] gleich Y_test[0]\n",
    "rendite = df[\"Open\"][14517] / df[\"Open\"][split_border]\n",
    "\n",
    "# Marktrendite bei 100 Euro Einsatz\n",
    "markt_return = 100 * rendite\n",
    "\n",
    "# Rendite bei Trading durch das Modell\n",
    "buy_or_sell = []\n",
    "\n",
    "# predictions of Neuronal Net\n",
    "predictions = model.predict(X_test)\n",
    "\n",
    "predictions = np.array(predictions).reshape(-1)\n",
    "\n",
    "# True when buy stock, false when sell stock\n",
    "for change in predictions: \n",
    "    if change > 0:\n",
    "        buy_or_sell.append(True)\n",
    "    else:\n",
    "        buy_or_sell.append(False)"
   ]
  },
  {
   "cell_type": "code",
   "execution_count": null,
   "metadata": {},
   "outputs": [],
   "source": [
    "# Berechne Rendite bei Neuronalem Netz\n",
    "# 1. Iteriere über buy_or_sell\n",
    "# 2. Wenn prediction True dann kaufe Aktie zu diesem Zeitpunkt \n",
    "# 3. Wenn prediction False dann verkaufe alle Aktien\n",
    "\n",
    "# starte mit kapital von 100 Euro\n",
    "kapital = 100\n",
    "# Anzahl Aktien im Depot\n",
    "depot = 0\n",
    "# Kurs in Euro pro Aktie\n",
    "kurs = 0\n",
    "\n",
    "# Annahme: Investiere immer das komplette Kapital bzw verkaufe komplettes Depot\n",
    "for (prediction, i) in zip(buy_or_sell, range(split_border, 14518 - 20)):\n",
    "    if prediction == True and kapital > 0:\n",
    "        # kaufe Aktie zum Zeitpunkt i\n",
    "        kurs = df[\"Open\"][i]\n",
    "        # depot[Aktien] = Kapital[Euro] * (1 [Aktie] / Kurs [Euro pro Aktie])\n",
    "        depot += kapital * (1 / kurs)\n",
    "        kapital = 0\n",
    "    elif depot > 0:\n",
    "        # verkaufe Aktien im Depot zum Zeitpunkt i\n",
    "        kurs = df[\"Open\"][i]\n",
    "        kapital = depot * kurs \n",
    "        depot = 0\n",
    "\n",
    "print(kapital)\n",
    "print(markt_return)"
   ]
  },
  {
   "cell_type": "code",
   "execution_count": null,
   "metadata": {},
   "outputs": [],
   "source": []
  }
 ],
 "metadata": {
  "kernelspec": {
   "display_name": "Python 3",
   "language": "python",
   "name": "python3"
  },
  "language_info": {
   "codemirror_mode": {
    "name": "ipython",
    "version": 3
   },
   "file_extension": ".py",
   "mimetype": "text/x-python",
   "name": "python",
   "nbconvert_exporter": "python",
   "pygments_lexer": "ipython3",
   "version": "3.6.9"
  }
 },
 "nbformat": 4,
 "nbformat_minor": 2
}
